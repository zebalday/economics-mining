{
 "cells": [
  {
   "cell_type": "code",
   "execution_count": 1,
   "id": "72c3f3b8-9402-40f2-9eab-c729dd4e0d69",
   "metadata": {},
   "outputs": [],
   "source": [
    "# IMPORTS\n",
    "import pandas as pd\n",
    "import numpy as np\n",
    "import matplotlib.pyplot as plt\n",
    "import seaborn as sns"
   ]
  },
  {
   "cell_type": "code",
   "execution_count": 2,
   "id": "57452ca9-32db-4cd0-b7b7-82274cf07e68",
   "metadata": {},
   "outputs": [],
   "source": [
    "# LOAD DATA\n",
    "path_2023 = \"../data/UF_2023.csv\"\n",
    "path_2024 = \"../data/UF_2024.csv\"\n",
    "\n",
    "data1 = pd.read_csv(path_2023)\n",
    "data2 = pd.read_csv(path_2024)"
   ]
  },
  {
   "cell_type": "code",
   "execution_count": 3,
   "id": "58c335f7-a738-44da-baf7-1f0383ab24b0",
   "metadata": {},
   "outputs": [],
   "source": [
    "# CREATE DATAFRAMES\n",
    "df1 = pd.DataFrame(data = data1)\n",
    "df2 = pd.DataFrame(data = data2)"
   ]
  },
  {
   "cell_type": "code",
   "execution_count": 4,
   "id": "619fba2f-6a21-4b40-9896-0e560950bc73",
   "metadata": {},
   "outputs": [],
   "source": [
    "# DATAFRAMES"
   ]
  },
  {
   "cell_type": "code",
   "execution_count": 5,
   "id": "24d95f0a-f2ca-4dd9-8f49-92588035ab52",
   "metadata": {},
   "outputs": [
    {
     "data": {
      "text/html": [
       "<div>\n",
       "<style scoped>\n",
       "    .dataframe tbody tr th:only-of-type {\n",
       "        vertical-align: middle;\n",
       "    }\n",
       "\n",
       "    .dataframe tbody tr th {\n",
       "        vertical-align: top;\n",
       "    }\n",
       "\n",
       "    .dataframe thead th {\n",
       "        text-align: right;\n",
       "    }\n",
       "</style>\n",
       "<table border=\"1\" class=\"dataframe\">\n",
       "  <thead>\n",
       "    <tr style=\"text-align: right;\">\n",
       "      <th></th>\n",
       "      <th>Unnamed: 0</th>\n",
       "      <th>fecha</th>\n",
       "      <th>valor</th>\n",
       "    </tr>\n",
       "  </thead>\n",
       "  <tbody>\n",
       "    <tr>\n",
       "      <th>0</th>\n",
       "      <td>0</td>\n",
       "      <td>2023-12-31T03:00:00.000Z</td>\n",
       "      <td>36789.36</td>\n",
       "    </tr>\n",
       "    <tr>\n",
       "      <th>1</th>\n",
       "      <td>1</td>\n",
       "      <td>2023-12-30T03:00:00.000Z</td>\n",
       "      <td>36781.09</td>\n",
       "    </tr>\n",
       "    <tr>\n",
       "      <th>2</th>\n",
       "      <td>2</td>\n",
       "      <td>2023-12-29T03:00:00.000Z</td>\n",
       "      <td>36772.81</td>\n",
       "    </tr>\n",
       "    <tr>\n",
       "      <th>3</th>\n",
       "      <td>3</td>\n",
       "      <td>2023-12-28T03:00:00.000Z</td>\n",
       "      <td>36764.54</td>\n",
       "    </tr>\n",
       "    <tr>\n",
       "      <th>4</th>\n",
       "      <td>4</td>\n",
       "      <td>2023-12-27T03:00:00.000Z</td>\n",
       "      <td>36756.26</td>\n",
       "    </tr>\n",
       "  </tbody>\n",
       "</table>\n",
       "</div>"
      ],
      "text/plain": [
       "   Unnamed: 0                     fecha     valor\n",
       "0           0  2023-12-31T03:00:00.000Z  36789.36\n",
       "1           1  2023-12-30T03:00:00.000Z  36781.09\n",
       "2           2  2023-12-29T03:00:00.000Z  36772.81\n",
       "3           3  2023-12-28T03:00:00.000Z  36764.54\n",
       "4           4  2023-12-27T03:00:00.000Z  36756.26"
      ]
     },
     "execution_count": 5,
     "metadata": {},
     "output_type": "execute_result"
    }
   ],
   "source": [
    "df1.head()"
   ]
  },
  {
   "cell_type": "code",
   "execution_count": 6,
   "id": "5f1ee8f9-e6b9-4bb1-a271-7997ce365838",
   "metadata": {},
   "outputs": [
    {
     "data": {
      "text/html": [
       "<div>\n",
       "<style scoped>\n",
       "    .dataframe tbody tr th:only-of-type {\n",
       "        vertical-align: middle;\n",
       "    }\n",
       "\n",
       "    .dataframe tbody tr th {\n",
       "        vertical-align: top;\n",
       "    }\n",
       "\n",
       "    .dataframe thead th {\n",
       "        text-align: right;\n",
       "    }\n",
       "</style>\n",
       "<table border=\"1\" class=\"dataframe\">\n",
       "  <thead>\n",
       "    <tr style=\"text-align: right;\">\n",
       "      <th></th>\n",
       "      <th>Unnamed: 0</th>\n",
       "      <th>fecha</th>\n",
       "      <th>valor</th>\n",
       "    </tr>\n",
       "  </thead>\n",
       "  <tbody>\n",
       "    <tr>\n",
       "      <th>0</th>\n",
       "      <td>0</td>\n",
       "      <td>2024-12-09T03:00:00.000Z</td>\n",
       "      <td>38362.26</td>\n",
       "    </tr>\n",
       "    <tr>\n",
       "      <th>1</th>\n",
       "      <td>1</td>\n",
       "      <td>2024-12-08T03:00:00.000Z</td>\n",
       "      <td>38349.54</td>\n",
       "    </tr>\n",
       "    <tr>\n",
       "      <th>2</th>\n",
       "      <td>2</td>\n",
       "      <td>2024-12-07T03:00:00.000Z</td>\n",
       "      <td>38336.83</td>\n",
       "    </tr>\n",
       "    <tr>\n",
       "      <th>3</th>\n",
       "      <td>3</td>\n",
       "      <td>2024-12-06T03:00:00.000Z</td>\n",
       "      <td>38324.11</td>\n",
       "    </tr>\n",
       "    <tr>\n",
       "      <th>4</th>\n",
       "      <td>4</td>\n",
       "      <td>2024-12-05T03:00:00.000Z</td>\n",
       "      <td>38311.40</td>\n",
       "    </tr>\n",
       "  </tbody>\n",
       "</table>\n",
       "</div>"
      ],
      "text/plain": [
       "   Unnamed: 0                     fecha     valor\n",
       "0           0  2024-12-09T03:00:00.000Z  38362.26\n",
       "1           1  2024-12-08T03:00:00.000Z  38349.54\n",
       "2           2  2024-12-07T03:00:00.000Z  38336.83\n",
       "3           3  2024-12-06T03:00:00.000Z  38324.11\n",
       "4           4  2024-12-05T03:00:00.000Z  38311.40"
      ]
     },
     "execution_count": 6,
     "metadata": {},
     "output_type": "execute_result"
    }
   ],
   "source": [
    "df2.head()"
   ]
  },
  {
   "cell_type": "code",
   "execution_count": 7,
   "id": "bbceba1f-a385-41b4-9cfe-559d07daefc9",
   "metadata": {},
   "outputs": [],
   "source": [
    "# JOIN BOTH DATAFRAMES\n",
    "df = pd.concat([df2, df1], ignore_index = True)"
   ]
  },
  {
   "cell_type": "code",
   "execution_count": 8,
   "id": "86fd3ec2-56b3-4b81-83f0-a20021031be2",
   "metadata": {},
   "outputs": [
    {
     "data": {
      "text/html": [
       "<div>\n",
       "<style scoped>\n",
       "    .dataframe tbody tr th:only-of-type {\n",
       "        vertical-align: middle;\n",
       "    }\n",
       "\n",
       "    .dataframe tbody tr th {\n",
       "        vertical-align: top;\n",
       "    }\n",
       "\n",
       "    .dataframe thead th {\n",
       "        text-align: right;\n",
       "    }\n",
       "</style>\n",
       "<table border=\"1\" class=\"dataframe\">\n",
       "  <thead>\n",
       "    <tr style=\"text-align: right;\">\n",
       "      <th></th>\n",
       "      <th>Unnamed: 0</th>\n",
       "      <th>fecha</th>\n",
       "      <th>valor</th>\n",
       "    </tr>\n",
       "  </thead>\n",
       "  <tbody>\n",
       "    <tr>\n",
       "      <th>0</th>\n",
       "      <td>0</td>\n",
       "      <td>2024-12-09T03:00:00.000Z</td>\n",
       "      <td>38362.26</td>\n",
       "    </tr>\n",
       "    <tr>\n",
       "      <th>1</th>\n",
       "      <td>1</td>\n",
       "      <td>2024-12-08T03:00:00.000Z</td>\n",
       "      <td>38349.54</td>\n",
       "    </tr>\n",
       "    <tr>\n",
       "      <th>2</th>\n",
       "      <td>2</td>\n",
       "      <td>2024-12-07T03:00:00.000Z</td>\n",
       "      <td>38336.83</td>\n",
       "    </tr>\n",
       "    <tr>\n",
       "      <th>3</th>\n",
       "      <td>3</td>\n",
       "      <td>2024-12-06T03:00:00.000Z</td>\n",
       "      <td>38324.11</td>\n",
       "    </tr>\n",
       "    <tr>\n",
       "      <th>4</th>\n",
       "      <td>4</td>\n",
       "      <td>2024-12-05T03:00:00.000Z</td>\n",
       "      <td>38311.40</td>\n",
       "    </tr>\n",
       "  </tbody>\n",
       "</table>\n",
       "</div>"
      ],
      "text/plain": [
       "   Unnamed: 0                     fecha     valor\n",
       "0           0  2024-12-09T03:00:00.000Z  38362.26\n",
       "1           1  2024-12-08T03:00:00.000Z  38349.54\n",
       "2           2  2024-12-07T03:00:00.000Z  38336.83\n",
       "3           3  2024-12-06T03:00:00.000Z  38324.11\n",
       "4           4  2024-12-05T03:00:00.000Z  38311.40"
      ]
     },
     "execution_count": 8,
     "metadata": {},
     "output_type": "execute_result"
    }
   ],
   "source": [
    "df.head()"
   ]
  },
  {
   "cell_type": "code",
   "execution_count": 9,
   "id": "f9a91a30-407e-4811-92c7-2f28c91a4afe",
   "metadata": {},
   "outputs": [
    {
     "data": {
      "text/html": [
       "<div>\n",
       "<style scoped>\n",
       "    .dataframe tbody tr th:only-of-type {\n",
       "        vertical-align: middle;\n",
       "    }\n",
       "\n",
       "    .dataframe tbody tr th {\n",
       "        vertical-align: top;\n",
       "    }\n",
       "\n",
       "    .dataframe thead th {\n",
       "        text-align: right;\n",
       "    }\n",
       "</style>\n",
       "<table border=\"1\" class=\"dataframe\">\n",
       "  <thead>\n",
       "    <tr style=\"text-align: right;\">\n",
       "      <th></th>\n",
       "      <th>Unnamed: 0</th>\n",
       "      <th>fecha</th>\n",
       "      <th>valor</th>\n",
       "    </tr>\n",
       "  </thead>\n",
       "  <tbody>\n",
       "    <tr>\n",
       "      <th>704</th>\n",
       "      <td>360</td>\n",
       "      <td>2023-01-05T03:00:00.000Z</td>\n",
       "      <td>35167.38</td>\n",
       "    </tr>\n",
       "    <tr>\n",
       "      <th>705</th>\n",
       "      <td>361</td>\n",
       "      <td>2023-01-04T03:00:00.000Z</td>\n",
       "      <td>35156.09</td>\n",
       "    </tr>\n",
       "    <tr>\n",
       "      <th>706</th>\n",
       "      <td>362</td>\n",
       "      <td>2023-01-03T03:00:00.000Z</td>\n",
       "      <td>35144.81</td>\n",
       "    </tr>\n",
       "    <tr>\n",
       "      <th>707</th>\n",
       "      <td>363</td>\n",
       "      <td>2023-01-02T03:00:00.000Z</td>\n",
       "      <td>35133.53</td>\n",
       "    </tr>\n",
       "    <tr>\n",
       "      <th>708</th>\n",
       "      <td>364</td>\n",
       "      <td>2023-01-01T03:00:00.000Z</td>\n",
       "      <td>35122.26</td>\n",
       "    </tr>\n",
       "  </tbody>\n",
       "</table>\n",
       "</div>"
      ],
      "text/plain": [
       "     Unnamed: 0                     fecha     valor\n",
       "704         360  2023-01-05T03:00:00.000Z  35167.38\n",
       "705         361  2023-01-04T03:00:00.000Z  35156.09\n",
       "706         362  2023-01-03T03:00:00.000Z  35144.81\n",
       "707         363  2023-01-02T03:00:00.000Z  35133.53\n",
       "708         364  2023-01-01T03:00:00.000Z  35122.26"
      ]
     },
     "execution_count": 9,
     "metadata": {},
     "output_type": "execute_result"
    }
   ],
   "source": [
    "df.tail()"
   ]
  },
  {
   "cell_type": "code",
   "execution_count": 10,
   "id": "50d6ae04-f306-42b2-a834-6070b9873371",
   "metadata": {},
   "outputs": [],
   "source": [
    "df.drop(columns=\"Unnamed: 0\", inplace = True)"
   ]
  },
  {
   "cell_type": "code",
   "execution_count": 11,
   "id": "cc802ebe-0bb3-4788-b06b-35026d8fe4c4",
   "metadata": {},
   "outputs": [
    {
     "data": {
      "text/plain": [
       "Index(['fecha', 'valor'], dtype='object')"
      ]
     },
     "execution_count": 11,
     "metadata": {},
     "output_type": "execute_result"
    }
   ],
   "source": [
    "df.columns"
   ]
  },
  {
   "cell_type": "code",
   "execution_count": 12,
   "id": "1f2c6a84-af3d-4bb9-8319-19ee30e2df96",
   "metadata": {},
   "outputs": [
    {
     "data": {
      "text/plain": [
       "0    2024-12-09T03:00:00.000Z\n",
       "1    2024-12-08T03:00:00.000Z\n",
       "2    2024-12-07T03:00:00.000Z\n",
       "3    2024-12-06T03:00:00.000Z\n",
       "4    2024-12-05T03:00:00.000Z\n",
       "Name: fecha, dtype: object"
      ]
     },
     "execution_count": 12,
     "metadata": {},
     "output_type": "execute_result"
    }
   ],
   "source": [
    "df[\"fecha\"].head()"
   ]
  },
  {
   "cell_type": "code",
   "execution_count": 13,
   "id": "fe56df1c-e205-4c74-be52-7e2e54a7bda2",
   "metadata": {},
   "outputs": [],
   "source": [
    "df[\"fecha\"] = df[\"fecha\"].str[:10]"
   ]
  },
  {
   "cell_type": "code",
   "execution_count": 14,
   "id": "d6d2f4ba-2a9b-45f7-8cd0-bdf4682dba6e",
   "metadata": {},
   "outputs": [
    {
     "data": {
      "text/html": [
       "<div>\n",
       "<style scoped>\n",
       "    .dataframe tbody tr th:only-of-type {\n",
       "        vertical-align: middle;\n",
       "    }\n",
       "\n",
       "    .dataframe tbody tr th {\n",
       "        vertical-align: top;\n",
       "    }\n",
       "\n",
       "    .dataframe thead th {\n",
       "        text-align: right;\n",
       "    }\n",
       "</style>\n",
       "<table border=\"1\" class=\"dataframe\">\n",
       "  <thead>\n",
       "    <tr style=\"text-align: right;\">\n",
       "      <th></th>\n",
       "      <th>fecha</th>\n",
       "      <th>valor</th>\n",
       "    </tr>\n",
       "  </thead>\n",
       "  <tbody>\n",
       "    <tr>\n",
       "      <th>0</th>\n",
       "      <td>2024-12-09</td>\n",
       "      <td>38362.26</td>\n",
       "    </tr>\n",
       "    <tr>\n",
       "      <th>1</th>\n",
       "      <td>2024-12-08</td>\n",
       "      <td>38349.54</td>\n",
       "    </tr>\n",
       "    <tr>\n",
       "      <th>2</th>\n",
       "      <td>2024-12-07</td>\n",
       "      <td>38336.83</td>\n",
       "    </tr>\n",
       "    <tr>\n",
       "      <th>3</th>\n",
       "      <td>2024-12-06</td>\n",
       "      <td>38324.11</td>\n",
       "    </tr>\n",
       "    <tr>\n",
       "      <th>4</th>\n",
       "      <td>2024-12-05</td>\n",
       "      <td>38311.40</td>\n",
       "    </tr>\n",
       "  </tbody>\n",
       "</table>\n",
       "</div>"
      ],
      "text/plain": [
       "        fecha     valor\n",
       "0  2024-12-09  38362.26\n",
       "1  2024-12-08  38349.54\n",
       "2  2024-12-07  38336.83\n",
       "3  2024-12-06  38324.11\n",
       "4  2024-12-05  38311.40"
      ]
     },
     "execution_count": 14,
     "metadata": {},
     "output_type": "execute_result"
    }
   ],
   "source": [
    "df.head()"
   ]
  },
  {
   "cell_type": "code",
   "execution_count": 15,
   "id": "aa9b48da-7d9e-477f-93b0-f4619c83bb51",
   "metadata": {},
   "outputs": [],
   "source": [
    "# CHANGE DATE FORMAT\n",
    "from datetime import datetime "
   ]
  },
  {
   "cell_type": "code",
   "execution_count": 16,
   "id": "7d3d8c50-6ac4-4a67-a089-b62a3a310d53",
   "metadata": {},
   "outputs": [],
   "source": [
    "df.dropna(inplace=True)"
   ]
  },
  {
   "cell_type": "code",
   "execution_count": 17,
   "id": "773ba9cb-070b-41b4-9145-5ab8c800af99",
   "metadata": {},
   "outputs": [],
   "source": [
    "df[\"fecha\"] = [datetime.strptime(str(x), \"%Y-%m-%d\").strftime(\"%d-%m-%Y\") for x in df[\"fecha\"]]"
   ]
  },
  {
   "cell_type": "code",
   "execution_count": 18,
   "id": "8f8eba6d-3aa9-46fb-871f-dc6937ee6a37",
   "metadata": {},
   "outputs": [
    {
     "data": {
      "text/plain": [
       "0    09-12-2024\n",
       "1    08-12-2024\n",
       "2    07-12-2024\n",
       "3    06-12-2024\n",
       "4    05-12-2024\n",
       "Name: fecha, dtype: object"
      ]
     },
     "execution_count": 18,
     "metadata": {},
     "output_type": "execute_result"
    }
   ],
   "source": [
    "df[\"fecha\"].head()"
   ]
  },
  {
   "cell_type": "code",
   "execution_count": 19,
   "id": "880f0129-b42e-4f0c-8e8e-5c7be8009cfa",
   "metadata": {},
   "outputs": [
    {
     "data": {
      "text/html": [
       "<div>\n",
       "<style scoped>\n",
       "    .dataframe tbody tr th:only-of-type {\n",
       "        vertical-align: middle;\n",
       "    }\n",
       "\n",
       "    .dataframe tbody tr th {\n",
       "        vertical-align: top;\n",
       "    }\n",
       "\n",
       "    .dataframe thead th {\n",
       "        text-align: right;\n",
       "    }\n",
       "</style>\n",
       "<table border=\"1\" class=\"dataframe\">\n",
       "  <thead>\n",
       "    <tr style=\"text-align: right;\">\n",
       "      <th></th>\n",
       "      <th>fecha</th>\n",
       "      <th>valor</th>\n",
       "    </tr>\n",
       "  </thead>\n",
       "  <tbody>\n",
       "    <tr>\n",
       "      <th>0</th>\n",
       "      <td>09-12-2024</td>\n",
       "      <td>38362.26</td>\n",
       "    </tr>\n",
       "    <tr>\n",
       "      <th>1</th>\n",
       "      <td>08-12-2024</td>\n",
       "      <td>38349.54</td>\n",
       "    </tr>\n",
       "    <tr>\n",
       "      <th>2</th>\n",
       "      <td>07-12-2024</td>\n",
       "      <td>38336.83</td>\n",
       "    </tr>\n",
       "    <tr>\n",
       "      <th>3</th>\n",
       "      <td>06-12-2024</td>\n",
       "      <td>38324.11</td>\n",
       "    </tr>\n",
       "    <tr>\n",
       "      <th>4</th>\n",
       "      <td>05-12-2024</td>\n",
       "      <td>38311.40</td>\n",
       "    </tr>\n",
       "  </tbody>\n",
       "</table>\n",
       "</div>"
      ],
      "text/plain": [
       "        fecha     valor\n",
       "0  09-12-2024  38362.26\n",
       "1  08-12-2024  38349.54\n",
       "2  07-12-2024  38336.83\n",
       "3  06-12-2024  38324.11\n",
       "4  05-12-2024  38311.40"
      ]
     },
     "execution_count": 19,
     "metadata": {},
     "output_type": "execute_result"
    }
   ],
   "source": [
    "df.head()"
   ]
  },
  {
   "cell_type": "code",
   "execution_count": 20,
   "id": "e60764b4-a328-4f45-b333-4fc4575806d6",
   "metadata": {},
   "outputs": [],
   "source": [
    "# TIME SERIES CHART"
   ]
  },
  {
   "cell_type": "code",
   "execution_count": 33,
   "id": "f0b40bf5-f2ff-46c4-b164-49d78726d3c8",
   "metadata": {},
   "outputs": [
    {
     "data": {
      "text/html": [
       "<div>\n",
       "<style scoped>\n",
       "    .dataframe tbody tr th:only-of-type {\n",
       "        vertical-align: middle;\n",
       "    }\n",
       "\n",
       "    .dataframe tbody tr th {\n",
       "        vertical-align: top;\n",
       "    }\n",
       "\n",
       "    .dataframe thead th {\n",
       "        text-align: right;\n",
       "    }\n",
       "</style>\n",
       "<table border=\"1\" class=\"dataframe\">\n",
       "  <thead>\n",
       "    <tr style=\"text-align: right;\">\n",
       "      <th></th>\n",
       "      <th>valor</th>\n",
       "    </tr>\n",
       "    <tr>\n",
       "      <th>fecha</th>\n",
       "      <th></th>\n",
       "    </tr>\n",
       "  </thead>\n",
       "  <tbody>\n",
       "    <tr>\n",
       "      <th>2023-01-01</th>\n",
       "      <td>35122.26</td>\n",
       "    </tr>\n",
       "    <tr>\n",
       "      <th>2023-01-02</th>\n",
       "      <td>35133.53</td>\n",
       "    </tr>\n",
       "    <tr>\n",
       "      <th>2023-01-03</th>\n",
       "      <td>35144.81</td>\n",
       "    </tr>\n",
       "    <tr>\n",
       "      <th>2023-01-04</th>\n",
       "      <td>35156.09</td>\n",
       "    </tr>\n",
       "    <tr>\n",
       "      <th>2023-01-05</th>\n",
       "      <td>35167.38</td>\n",
       "    </tr>\n",
       "    <tr>\n",
       "      <th>2023-01-06</th>\n",
       "      <td>35178.67</td>\n",
       "    </tr>\n",
       "    <tr>\n",
       "      <th>2023-01-07</th>\n",
       "      <td>35189.96</td>\n",
       "    </tr>\n",
       "    <tr>\n",
       "      <th>2023-01-08</th>\n",
       "      <td>35201.26</td>\n",
       "    </tr>\n",
       "    <tr>\n",
       "      <th>2023-01-09</th>\n",
       "      <td>35212.56</td>\n",
       "    </tr>\n",
       "    <tr>\n",
       "      <th>2023-01-10</th>\n",
       "      <td>35215.96</td>\n",
       "    </tr>\n",
       "  </tbody>\n",
       "</table>\n",
       "</div>"
      ],
      "text/plain": [
       "               valor\n",
       "fecha               \n",
       "2023-01-01  35122.26\n",
       "2023-01-02  35133.53\n",
       "2023-01-03  35144.81\n",
       "2023-01-04  35156.09\n",
       "2023-01-05  35167.38\n",
       "2023-01-06  35178.67\n",
       "2023-01-07  35189.96\n",
       "2023-01-08  35201.26\n",
       "2023-01-09  35212.56\n",
       "2023-01-10  35215.96"
      ]
     },
     "execution_count": 33,
     "metadata": {},
     "output_type": "execute_result"
    }
   ],
   "source": [
    "df.head(10)"
   ]
  },
  {
   "cell_type": "code",
   "execution_count": 24,
   "id": "0903fdd1-4a70-4765-9f71-170c7016e798",
   "metadata": {},
   "outputs": [],
   "source": [
    "df[\"fecha\"] = pd.to_datetime(arg = df[\"fecha\"], dayfirst = True)"
   ]
  },
  {
   "cell_type": "code",
   "execution_count": 25,
   "id": "bdb78125-9772-40d2-8f21-d5c2ab9fbcbc",
   "metadata": {},
   "outputs": [
    {
     "data": {
      "text/html": [
       "<div>\n",
       "<style scoped>\n",
       "    .dataframe tbody tr th:only-of-type {\n",
       "        vertical-align: middle;\n",
       "    }\n",
       "\n",
       "    .dataframe tbody tr th {\n",
       "        vertical-align: top;\n",
       "    }\n",
       "\n",
       "    .dataframe thead th {\n",
       "        text-align: right;\n",
       "    }\n",
       "</style>\n",
       "<table border=\"1\" class=\"dataframe\">\n",
       "  <thead>\n",
       "    <tr style=\"text-align: right;\">\n",
       "      <th></th>\n",
       "      <th>fecha</th>\n",
       "      <th>valor</th>\n",
       "    </tr>\n",
       "  </thead>\n",
       "  <tbody>\n",
       "    <tr>\n",
       "      <th>0</th>\n",
       "      <td>2024-12-09</td>\n",
       "      <td>38362.26</td>\n",
       "    </tr>\n",
       "    <tr>\n",
       "      <th>1</th>\n",
       "      <td>2024-12-08</td>\n",
       "      <td>38349.54</td>\n",
       "    </tr>\n",
       "    <tr>\n",
       "      <th>2</th>\n",
       "      <td>2024-12-07</td>\n",
       "      <td>38336.83</td>\n",
       "    </tr>\n",
       "    <tr>\n",
       "      <th>3</th>\n",
       "      <td>2024-12-06</td>\n",
       "      <td>38324.11</td>\n",
       "    </tr>\n",
       "    <tr>\n",
       "      <th>4</th>\n",
       "      <td>2024-12-05</td>\n",
       "      <td>38311.40</td>\n",
       "    </tr>\n",
       "  </tbody>\n",
       "</table>\n",
       "</div>"
      ],
      "text/plain": [
       "       fecha     valor\n",
       "0 2024-12-09  38362.26\n",
       "1 2024-12-08  38349.54\n",
       "2 2024-12-07  38336.83\n",
       "3 2024-12-06  38324.11\n",
       "4 2024-12-05  38311.40"
      ]
     },
     "execution_count": 25,
     "metadata": {},
     "output_type": "execute_result"
    }
   ],
   "source": [
    "df.head()"
   ]
  },
  {
   "cell_type": "code",
   "execution_count": 26,
   "id": "8281bd6c-9631-4ec5-9e6f-75c5454b7e3b",
   "metadata": {},
   "outputs": [],
   "source": [
    "df.set_index(keys = \"fecha\", inplace = True)"
   ]
  },
  {
   "cell_type": "code",
   "execution_count": 27,
   "id": "a8032c0a-65dc-4287-85cd-cbf2af13799c",
   "metadata": {},
   "outputs": [
    {
     "data": {
      "text/html": [
       "<div>\n",
       "<style scoped>\n",
       "    .dataframe tbody tr th:only-of-type {\n",
       "        vertical-align: middle;\n",
       "    }\n",
       "\n",
       "    .dataframe tbody tr th {\n",
       "        vertical-align: top;\n",
       "    }\n",
       "\n",
       "    .dataframe thead th {\n",
       "        text-align: right;\n",
       "    }\n",
       "</style>\n",
       "<table border=\"1\" class=\"dataframe\">\n",
       "  <thead>\n",
       "    <tr style=\"text-align: right;\">\n",
       "      <th></th>\n",
       "      <th>valor</th>\n",
       "    </tr>\n",
       "    <tr>\n",
       "      <th>fecha</th>\n",
       "      <th></th>\n",
       "    </tr>\n",
       "  </thead>\n",
       "  <tbody>\n",
       "    <tr>\n",
       "      <th>2024-12-09</th>\n",
       "      <td>38362.26</td>\n",
       "    </tr>\n",
       "    <tr>\n",
       "      <th>2024-12-08</th>\n",
       "      <td>38349.54</td>\n",
       "    </tr>\n",
       "    <tr>\n",
       "      <th>2024-12-07</th>\n",
       "      <td>38336.83</td>\n",
       "    </tr>\n",
       "    <tr>\n",
       "      <th>2024-12-06</th>\n",
       "      <td>38324.11</td>\n",
       "    </tr>\n",
       "    <tr>\n",
       "      <th>2024-12-05</th>\n",
       "      <td>38311.40</td>\n",
       "    </tr>\n",
       "  </tbody>\n",
       "</table>\n",
       "</div>"
      ],
      "text/plain": [
       "               valor\n",
       "fecha               \n",
       "2024-12-09  38362.26\n",
       "2024-12-08  38349.54\n",
       "2024-12-07  38336.83\n",
       "2024-12-06  38324.11\n",
       "2024-12-05  38311.40"
      ]
     },
     "execution_count": 27,
     "metadata": {},
     "output_type": "execute_result"
    }
   ],
   "source": [
    "df.head()"
   ]
  },
  {
   "cell_type": "code",
   "execution_count": 29,
   "id": "f8ad97d5-1308-4847-bbb4-107b2823cfee",
   "metadata": {},
   "outputs": [
    {
     "data": {
      "text/plain": [
       "Index(['valor'], dtype='object')"
      ]
     },
     "execution_count": 29,
     "metadata": {},
     "output_type": "execute_result"
    }
   ],
   "source": [
    "df.columns"
   ]
  },
  {
   "cell_type": "code",
   "execution_count": 31,
   "id": "4444d09c-618b-4848-b589-667f9b8431f4",
   "metadata": {},
   "outputs": [],
   "source": [
    "df.sort_values(by = \"fecha\", inplace = True)"
   ]
  },
  {
   "cell_type": "code",
   "execution_count": 32,
   "id": "fb940078-b239-4bdd-aded-51badf367e9b",
   "metadata": {},
   "outputs": [
    {
     "data": {
      "text/html": [
       "<div>\n",
       "<style scoped>\n",
       "    .dataframe tbody tr th:only-of-type {\n",
       "        vertical-align: middle;\n",
       "    }\n",
       "\n",
       "    .dataframe tbody tr th {\n",
       "        vertical-align: top;\n",
       "    }\n",
       "\n",
       "    .dataframe thead th {\n",
       "        text-align: right;\n",
       "    }\n",
       "</style>\n",
       "<table border=\"1\" class=\"dataframe\">\n",
       "  <thead>\n",
       "    <tr style=\"text-align: right;\">\n",
       "      <th></th>\n",
       "      <th>valor</th>\n",
       "    </tr>\n",
       "    <tr>\n",
       "      <th>fecha</th>\n",
       "      <th></th>\n",
       "    </tr>\n",
       "  </thead>\n",
       "  <tbody>\n",
       "    <tr>\n",
       "      <th>2023-01-01</th>\n",
       "      <td>35122.26</td>\n",
       "    </tr>\n",
       "    <tr>\n",
       "      <th>2023-01-02</th>\n",
       "      <td>35133.53</td>\n",
       "    </tr>\n",
       "    <tr>\n",
       "      <th>2023-01-03</th>\n",
       "      <td>35144.81</td>\n",
       "    </tr>\n",
       "    <tr>\n",
       "      <th>2023-01-04</th>\n",
       "      <td>35156.09</td>\n",
       "    </tr>\n",
       "    <tr>\n",
       "      <th>2023-01-05</th>\n",
       "      <td>35167.38</td>\n",
       "    </tr>\n",
       "  </tbody>\n",
       "</table>\n",
       "</div>"
      ],
      "text/plain": [
       "               valor\n",
       "fecha               \n",
       "2023-01-01  35122.26\n",
       "2023-01-02  35133.53\n",
       "2023-01-03  35144.81\n",
       "2023-01-04  35156.09\n",
       "2023-01-05  35167.38"
      ]
     },
     "execution_count": 32,
     "metadata": {},
     "output_type": "execute_result"
    }
   ],
   "source": [
    "df.head()"
   ]
  },
  {
   "cell_type": "code",
   "execution_count": 44,
   "id": "d2cb3280-4741-48fd-9ea6-d661e84c3680",
   "metadata": {},
   "outputs": [
    {
     "data": {
      "text/plain": [
       "Text(0, 0.5, 'Precio')"
      ]
     },
     "execution_count": 44,
     "metadata": {},
     "output_type": "execute_result"
    },
    {
     "data": {
      "image/png": "[encoded data removed]",
      "text/plain": [
       "<Figure size 1200x500 with 1 Axes>"
      ]
     },
     "metadata": {},
     "output_type": "display_data"
    }
   ],
   "source": [
    "# Chart\n",
    "fig = plt.subplots(figsize=(12, 5))\n",
    "plt.plot(df.index, df[\"valor\"])\n",
    "plt.title(\"Variación de UF\", fontsize = 15)\n",
    "plt.xlabel('Fecha', fontsize=10)\n",
    "plt.xticks(rotation = 45)\n",
    "plt.xlim(pd.Timestamp('2022-12-01'), pd.Timestamp('2024-12-31'))\n",
    "plt.ylabel('Precio', fontsize=10)"
   ]
  },
  {
   "cell_type": "code",
   "execution_count": 45,
   "id": "5f959435-1928-4f30-8086-244298c7c595",
   "metadata": {},
   "outputs": [],
   "source": [
    "# ADD VARIATION COLUMNS (in CLP & percentage)"
   ]
  },
  {
   "cell_type": "code",
   "execution_count": 47,
   "id": "8d0b82f6-e784-4667-9e55-42beffe4609d",
   "metadata": {},
   "outputs": [
    {
     "name": "stderr",
     "output_type": "stream",
     "text": [
      "C:\\Users\\sebal\\AppData\\Local\\Temp\\ipykernel_2448\\169215335.py:2: FutureWarning: Series.__getitem__ treating keys as positions is deprecated. In a future version, integer keys will always be treated as labels (consistent with DataFrame behavior). To access a value by position, use `ser.iloc[pos]`\n",
      "  columna_variacion_clp = [ 0 if index == 0 else df[\"valor\"][index] - df[\"valor\"][index - 1] for index, value in enumerate(df[\"valor\"])]\n"
     ]
    }
   ],
   "source": [
    "# result = [item for index, item in enumerate(my_list) if index == 0]\n",
    "columna_variacion_clp = [ 0 if index == 0 else df[\"valor\"][index] - df[\"valor\"][index - 1] for index, value in enumerate(df[\"valor\"])]"
   ]
  },
  {
   "cell_type": "code",
   "execution_count": 58,
   "id": "33ff45b7-a57e-423f-99e3-221be19292f0",
   "metadata": {},
   "outputs": [],
   "source": [
    "# columna_variacion_clp"
   ]
  },
  {
   "cell_type": "code",
   "execution_count": 49,
   "id": "ac03d2e3-8ab6-46a4-8aa9-82ae65b68578",
   "metadata": {},
   "outputs": [
    {
     "data": {
      "text/html": [
       "<div>\n",
       "<style scoped>\n",
       "    .dataframe tbody tr th:only-of-type {\n",
       "        vertical-align: middle;\n",
       "    }\n",
       "\n",
       "    .dataframe tbody tr th {\n",
       "        vertical-align: top;\n",
       "    }\n",
       "\n",
       "    .dataframe thead th {\n",
       "        text-align: right;\n",
       "    }\n",
       "</style>\n",
       "<table border=\"1\" class=\"dataframe\">\n",
       "  <thead>\n",
       "    <tr style=\"text-align: right;\">\n",
       "      <th></th>\n",
       "      <th>valor</th>\n",
       "    </tr>\n",
       "    <tr>\n",
       "      <th>fecha</th>\n",
       "      <th></th>\n",
       "    </tr>\n",
       "  </thead>\n",
       "  <tbody>\n",
       "    <tr>\n",
       "      <th>2023-01-01</th>\n",
       "      <td>35122.26</td>\n",
       "    </tr>\n",
       "    <tr>\n",
       "      <th>2023-01-02</th>\n",
       "      <td>35133.53</td>\n",
       "    </tr>\n",
       "    <tr>\n",
       "      <th>2023-01-03</th>\n",
       "      <td>35144.81</td>\n",
       "    </tr>\n",
       "  </tbody>\n",
       "</table>\n",
       "</div>"
      ],
      "text/plain": [
       "               valor\n",
       "fecha               \n",
       "2023-01-01  35122.26\n",
       "2023-01-02  35133.53\n",
       "2023-01-03  35144.81"
      ]
     },
     "execution_count": 49,
     "metadata": {},
     "output_type": "execute_result"
    }
   ],
   "source": [
    "df.head(3)"
   ]
  },
  {
   "cell_type": "code",
   "execution_count": 50,
   "id": "af1c8fc6-f826-4dab-919e-10f72226e82d",
   "metadata": {},
   "outputs": [],
   "source": [
    "df[\"variacion_clp\"] = columna_variacion_clp"
   ]
  },
  {
   "cell_type": "code",
   "execution_count": 51,
   "id": "be20dfa0-3927-4137-aa70-3a3a3e079eee",
   "metadata": {},
   "outputs": [
    {
     "data": {
      "text/html": [
       "<div>\n",
       "<style scoped>\n",
       "    .dataframe tbody tr th:only-of-type {\n",
       "        vertical-align: middle;\n",
       "    }\n",
       "\n",
       "    .dataframe tbody tr th {\n",
       "        vertical-align: top;\n",
       "    }\n",
       "\n",
       "    .dataframe thead th {\n",
       "        text-align: right;\n",
       "    }\n",
       "</style>\n",
       "<table border=\"1\" class=\"dataframe\">\n",
       "  <thead>\n",
       "    <tr style=\"text-align: right;\">\n",
       "      <th></th>\n",
       "      <th>valor</th>\n",
       "      <th>variacion_clp</th>\n",
       "    </tr>\n",
       "    <tr>\n",
       "      <th>fecha</th>\n",
       "      <th></th>\n",
       "      <th></th>\n",
       "    </tr>\n",
       "  </thead>\n",
       "  <tbody>\n",
       "    <tr>\n",
       "      <th>2023-01-01</th>\n",
       "      <td>35122.26</td>\n",
       "      <td>0.00</td>\n",
       "    </tr>\n",
       "    <tr>\n",
       "      <th>2023-01-02</th>\n",
       "      <td>35133.53</td>\n",
       "      <td>11.27</td>\n",
       "    </tr>\n",
       "    <tr>\n",
       "      <th>2023-01-03</th>\n",
       "      <td>35144.81</td>\n",
       "      <td>11.28</td>\n",
       "    </tr>\n",
       "    <tr>\n",
       "      <th>2023-01-04</th>\n",
       "      <td>35156.09</td>\n",
       "      <td>11.28</td>\n",
       "    </tr>\n",
       "    <tr>\n",
       "      <th>2023-01-05</th>\n",
       "      <td>35167.38</td>\n",
       "      <td>11.29</td>\n",
       "    </tr>\n",
       "  </tbody>\n",
       "</table>\n",
       "</div>"
      ],
      "text/plain": [
       "               valor  variacion_clp\n",
       "fecha                              \n",
       "2023-01-01  35122.26           0.00\n",
       "2023-01-02  35133.53          11.27\n",
       "2023-01-03  35144.81          11.28\n",
       "2023-01-04  35156.09          11.28\n",
       "2023-01-05  35167.38          11.29"
      ]
     },
     "execution_count": 51,
     "metadata": {},
     "output_type": "execute_result"
    }
   ],
   "source": [
    "df.head()"
   ]
  },
  {
   "cell_type": "code",
   "execution_count": 53,
   "id": "6f357a80-6114-459e-96de-00246e87c6cc",
   "metadata": {},
   "outputs": [
    {
     "name": "stderr",
     "output_type": "stream",
     "text": [
      "C:\\Users\\sebal\\AppData\\Local\\Temp\\ipykernel_2448\\415150489.py:3: FutureWarning: Series.__getitem__ treating keys as positions is deprecated. In a future version, integer keys will always be treated as labels (consistent with DataFrame behavior). To access a value by position, use `ser.iloc[pos]`\n",
      "  else (df[\"variacion_clp\"][index] * 100) / df[\"valor\"][index - 1]\n"
     ]
    }
   ],
   "source": [
    "# columna_variacion_clp = [ 0 if index == 0 else df[\"valor\"][index] - df[\"valor\"][index - 1] for index, value in enumerate(df[\"valor\"])]\n",
    "columna_variacion_per = [ 0 if index == 0 \n",
    "                         else (df[\"variacion_clp\"][index] * 100) / df[\"valor\"][index - 1] \n",
    "                         for index, value in enumerate(df[\"variacion_clp\"])]"
   ]
  },
  {
   "cell_type": "code",
   "execution_count": 60,
   "id": "86f523cb-f234-43f1-96f1-8be22d6bc628",
   "metadata": {},
   "outputs": [],
   "source": [
    "# columna_variacion_per"
   ]
  },
  {
   "cell_type": "code",
   "execution_count": 55,
   "id": "92180a0b-0720-49a5-b553-010d00c34dbf",
   "metadata": {},
   "outputs": [],
   "source": [
    "df[\"variacion_%\"] = columna_variacion_per"
   ]
  },
  {
   "cell_type": "code",
   "execution_count": 56,
   "id": "b712e472-1948-4177-9349-18e1f6eb44b5",
   "metadata": {},
   "outputs": [
    {
     "data": {
      "text/html": [
       "<div>\n",
       "<style scoped>\n",
       "    .dataframe tbody tr th:only-of-type {\n",
       "        vertical-align: middle;\n",
       "    }\n",
       "\n",
       "    .dataframe tbody tr th {\n",
       "        vertical-align: top;\n",
       "    }\n",
       "\n",
       "    .dataframe thead th {\n",
       "        text-align: right;\n",
       "    }\n",
       "</style>\n",
       "<table border=\"1\" class=\"dataframe\">\n",
       "  <thead>\n",
       "    <tr style=\"text-align: right;\">\n",
       "      <th></th>\n",
       "      <th>valor</th>\n",
       "      <th>variacion_clp</th>\n",
       "      <th>variacion_%</th>\n",
       "    </tr>\n",
       "    <tr>\n",
       "      <th>fecha</th>\n",
       "      <th></th>\n",
       "      <th></th>\n",
       "      <th></th>\n",
       "    </tr>\n",
       "  </thead>\n",
       "  <tbody>\n",
       "    <tr>\n",
       "      <th>2023-01-01</th>\n",
       "      <td>35122.26</td>\n",
       "      <td>0.00</td>\n",
       "      <td>0.000000</td>\n",
       "    </tr>\n",
       "    <tr>\n",
       "      <th>2023-01-02</th>\n",
       "      <td>35133.53</td>\n",
       "      <td>11.27</td>\n",
       "      <td>0.032088</td>\n",
       "    </tr>\n",
       "    <tr>\n",
       "      <th>2023-01-03</th>\n",
       "      <td>35144.81</td>\n",
       "      <td>11.28</td>\n",
       "      <td>0.032106</td>\n",
       "    </tr>\n",
       "    <tr>\n",
       "      <th>2023-01-04</th>\n",
       "      <td>35156.09</td>\n",
       "      <td>11.28</td>\n",
       "      <td>0.032096</td>\n",
       "    </tr>\n",
       "    <tr>\n",
       "      <th>2023-01-05</th>\n",
       "      <td>35167.38</td>\n",
       "      <td>11.29</td>\n",
       "      <td>0.032114</td>\n",
       "    </tr>\n",
       "    <tr>\n",
       "      <th>2023-01-06</th>\n",
       "      <td>35178.67</td>\n",
       "      <td>11.29</td>\n",
       "      <td>0.032104</td>\n",
       "    </tr>\n",
       "    <tr>\n",
       "      <th>2023-01-07</th>\n",
       "      <td>35189.96</td>\n",
       "      <td>11.29</td>\n",
       "      <td>0.032093</td>\n",
       "    </tr>\n",
       "    <tr>\n",
       "      <th>2023-01-08</th>\n",
       "      <td>35201.26</td>\n",
       "      <td>11.30</td>\n",
       "      <td>0.032111</td>\n",
       "    </tr>\n",
       "    <tr>\n",
       "      <th>2023-01-09</th>\n",
       "      <td>35212.56</td>\n",
       "      <td>11.30</td>\n",
       "      <td>0.032101</td>\n",
       "    </tr>\n",
       "    <tr>\n",
       "      <th>2023-01-10</th>\n",
       "      <td>35215.96</td>\n",
       "      <td>3.40</td>\n",
       "      <td>0.009656</td>\n",
       "    </tr>\n",
       "  </tbody>\n",
       "</table>\n",
       "</div>"
      ],
      "text/plain": [
       "               valor  variacion_clp  variacion_%\n",
       "fecha                                           \n",
       "2023-01-01  35122.26           0.00     0.000000\n",
       "2023-01-02  35133.53          11.27     0.032088\n",
       "2023-01-03  35144.81          11.28     0.032106\n",
       "2023-01-04  35156.09          11.28     0.032096\n",
       "2023-01-05  35167.38          11.29     0.032114\n",
       "2023-01-06  35178.67          11.29     0.032104\n",
       "2023-01-07  35189.96          11.29     0.032093\n",
       "2023-01-08  35201.26          11.30     0.032111\n",
       "2023-01-09  35212.56          11.30     0.032101\n",
       "2023-01-10  35215.96           3.40     0.009656"
      ]
     },
     "execution_count": 56,
     "metadata": {},
     "output_type": "execute_result"
    }
   ],
   "source": [
    "df.head(10)"
   ]
  },
  {
   "cell_type": "code",
   "execution_count": 57,
   "id": "759594ac-815e-40b7-8a05-ac359f53c3de",
   "metadata": {},
   "outputs": [
    {
     "data": {
      "text/html": [
       "<div>\n",
       "<style scoped>\n",
       "    .dataframe tbody tr th:only-of-type {\n",
       "        vertical-align: middle;\n",
       "    }\n",
       "\n",
       "    .dataframe tbody tr th {\n",
       "        vertical-align: top;\n",
       "    }\n",
       "\n",
       "    .dataframe thead th {\n",
       "        text-align: right;\n",
       "    }\n",
       "</style>\n",
       "<table border=\"1\" class=\"dataframe\">\n",
       "  <thead>\n",
       "    <tr style=\"text-align: right;\">\n",
       "      <th></th>\n",
       "      <th>valor</th>\n",
       "      <th>variacion_clp</th>\n",
       "      <th>variacion_%</th>\n",
       "    </tr>\n",
       "    <tr>\n",
       "      <th>fecha</th>\n",
       "      <th></th>\n",
       "      <th></th>\n",
       "      <th></th>\n",
       "    </tr>\n",
       "  </thead>\n",
       "  <tbody>\n",
       "    <tr>\n",
       "      <th>2024-11-30</th>\n",
       "      <td>38247.92</td>\n",
       "      <td>12.68</td>\n",
       "      <td>0.033163</td>\n",
       "    </tr>\n",
       "    <tr>\n",
       "      <th>2024-12-01</th>\n",
       "      <td>38260.61</td>\n",
       "      <td>12.69</td>\n",
       "      <td>0.033178</td>\n",
       "    </tr>\n",
       "    <tr>\n",
       "      <th>2024-12-02</th>\n",
       "      <td>38273.30</td>\n",
       "      <td>12.69</td>\n",
       "      <td>0.033167</td>\n",
       "    </tr>\n",
       "    <tr>\n",
       "      <th>2024-12-03</th>\n",
       "      <td>38286.00</td>\n",
       "      <td>12.70</td>\n",
       "      <td>0.033182</td>\n",
       "    </tr>\n",
       "    <tr>\n",
       "      <th>2024-12-04</th>\n",
       "      <td>38298.70</td>\n",
       "      <td>12.70</td>\n",
       "      <td>0.033171</td>\n",
       "    </tr>\n",
       "    <tr>\n",
       "      <th>2024-12-05</th>\n",
       "      <td>38311.40</td>\n",
       "      <td>12.70</td>\n",
       "      <td>0.033160</td>\n",
       "    </tr>\n",
       "    <tr>\n",
       "      <th>2024-12-06</th>\n",
       "      <td>38324.11</td>\n",
       "      <td>12.71</td>\n",
       "      <td>0.033176</td>\n",
       "    </tr>\n",
       "    <tr>\n",
       "      <th>2024-12-07</th>\n",
       "      <td>38336.83</td>\n",
       "      <td>12.72</td>\n",
       "      <td>0.033191</td>\n",
       "    </tr>\n",
       "    <tr>\n",
       "      <th>2024-12-08</th>\n",
       "      <td>38349.54</td>\n",
       "      <td>12.71</td>\n",
       "      <td>0.033153</td>\n",
       "    </tr>\n",
       "    <tr>\n",
       "      <th>2024-12-09</th>\n",
       "      <td>38362.26</td>\n",
       "      <td>12.72</td>\n",
       "      <td>0.033169</td>\n",
       "    </tr>\n",
       "  </tbody>\n",
       "</table>\n",
       "</div>"
      ],
      "text/plain": [
       "               valor  variacion_clp  variacion_%\n",
       "fecha                                           \n",
       "2024-11-30  38247.92          12.68     0.033163\n",
       "2024-12-01  38260.61          12.69     0.033178\n",
       "2024-12-02  38273.30          12.69     0.033167\n",
       "2024-12-03  38286.00          12.70     0.033182\n",
       "2024-12-04  38298.70          12.70     0.033171\n",
       "2024-12-05  38311.40          12.70     0.033160\n",
       "2024-12-06  38324.11          12.71     0.033176\n",
       "2024-12-07  38336.83          12.72     0.033191\n",
       "2024-12-08  38349.54          12.71     0.033153\n",
       "2024-12-09  38362.26          12.72     0.033169"
      ]
     },
     "execution_count": 57,
     "metadata": {},
     "output_type": "execute_result"
    }
   ],
   "source": [
    "df.tail(10)"
   ]
  },
  {
   "cell_type": "code",
   "execution_count": 63,
   "id": "1242caae-d521-41b0-b864-1b111cb17cf6",
   "metadata": {},
   "outputs": [
    {
     "data": {
      "text/plain": [
       "Text(0, 0.5, 'Variación')"
      ]
     },
     "execution_count": 63,
     "metadata": {},
     "output_type": "execute_result"
    },
    {
     "data": {
      "image/png": "[encoded data removed]",
      "text/plain": [
       "<Figure size 1200x500 with 1 Axes>"
      ]
     },
     "metadata": {},
     "output_type": "display_data"
    }
   ],
   "source": [
    "# Chart\n",
    "fig = plt.subplots(figsize=(12, 5))\n",
    "plt.plot(df.index, df[\"variacion_clp\"])\n",
    "plt.title(\"Variación de UF en pesos\", fontsize = 15)\n",
    "plt.xlabel('Fecha', fontsize=10)\n",
    "plt.xticks(rotation = 45)\n",
    "plt.xlim(pd.Timestamp('2022-12-01'), pd.Timestamp('2024-12-31'))\n",
    "plt.ylabel('Variación', fontsize=10)"
   ]
  },
  {
   "cell_type": "code",
   "execution_count": 64,
   "id": "6b4deeed-b3be-478d-979d-bb4c893804c4",
   "metadata": {},
   "outputs": [],
   "source": [
    "# Save data\n",
    "path = \"../data_processed/UF_2023_2024.csv\"\n",
    "df.to_csv(path)"
   ]
  },
  {
   "cell_type": "code",
   "execution_count": null,
   "id": "77c82db1-cbf7-40ba-8de9-e29d0dec8350",
   "metadata": {},
   "outputs": [],
   "source": []
  }
 ],
 "metadata": {
  "kernelspec": {
   "display_name": "Python 3 (ipykernel)",
   "language": "python",
   "name": "python3"
  },
  "language_info": {
   "codemirror_mode": {
    "name": "ipython",
    "version": 3
   },
   "file_extension": ".py",
   "mimetype": "text/x-python",
   "name": "python",
   "nbconvert_exporter": "python",
   "pygments_lexer": "ipython3",
   "version": "3.12.7"
  }
 },
 "nbformat": 4,
 "nbformat_minor": 5
}
